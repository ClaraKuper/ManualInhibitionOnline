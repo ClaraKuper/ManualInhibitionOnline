{
 "cells": [
  {
   "cell_type": "code",
   "execution_count": 2,
   "id": "0396e64a",
   "metadata": {},
   "outputs": [],
   "source": [
    "import numpy as np\n",
    "import pandas as pd\n",
    "import matplotlib.pyplot as plt"
   ]
  },
  {
   "cell_type": "code",
   "execution_count": 1,
   "id": "d11ef743",
   "metadata": {},
   "outputs": [],
   "source": [
    "def causRate(msOns, wbLock, waLock, nt):\n",
    "    \"\"\"\n",
    "\n",
    "     analyse rate in causal time window\n",
    "\n",
    "     input:    msOns   - microsaccade onset times\n",
    "               wbLock  - window before lock\n",
    "               waLock  - window after lock\n",
    "               nt      - number of trials\n",
    "    \n",
    "     output:   rate    - microsaccade rate\n",
    "               scale   - time axis\n",
    "    \n",
    "    12.12.2005 by Martin Rolfs\n",
    "    21.06.2021 translated to python by Clara Kuper\n",
    "    \"\"\"\n",
    "    \n",
    "    # check how many trials these values came from\n",
    "    if type(nt)==int:\n",
    "        nt = np.linspace(nt,nt,len(np.arange(-wbLock,waLock, 1)));\n",
    "    elif len(nt)!=len(np.arange(-wbLock,waLock, 1)):\n",
    "        error('nt must have the same length as -wbLock:waLock!')\n",
    "\n",
    "    # alpha defines how much the distribution is shifted\n",
    "    alpha = 1/20;\n",
    "    # define empty arrays for scale and rate\n",
    "    scale = [];\n",
    "    rate = [];\n",
    "    \n",
    "    # loop through all time windows\n",
    "    for t in np.arange(-wbLock,waLock):\n",
    "        \n",
    "        # save the time\n",
    "        scale.append(t)\n",
    "        # compute tau\n",
    "        tau = t-msOns+1/alpha\n",
    "        # filter tau as event 0/1\n",
    "        tau = tau[tau>0]\n",
    "        # get the number of saccades in a given window\n",
    "        causal = alpha**2*tau*np.exp(-alpha*tau)\n",
    "        # save the rate \n",
    "        rate.append(sum(causal)*1000/nt[len(scale)-1])\n",
    "    \n",
    "    return rate, scale"
   ]
  },
  {
   "cell_type": "code",
   "execution_count": 4,
   "id": "b9ea18b6",
   "metadata": {},
   "outputs": [],
   "source": [
    "def causweight(tau, alpha = 1/20):\n",
    "    \n",
    "    causal = alpha**2*tau*np.exp(-alpha*tau)\n",
    "    \n",
    "    return causal"
   ]
  },
  {
   "cell_type": "code",
   "execution_count": 10,
   "id": "9f31e994",
   "metadata": {},
   "outputs": [
    {
     "data": {
      "image/png": "[encoded data removed]",
      "text/plain": [
       "<Figure size 432x288 with 1 Axes>"
      ]
     },
     "metadata": {
      "needs_background": "light"
     },
     "output_type": "display_data"
    }
   ],
   "source": [
    "tau_array = []\n",
    "for tau in np.arange(0,500,2):\n",
    "    \n",
    "    tau_array.append(causweight(tau))\n",
    "    \n",
    "plt.plot(np.arange(0,500,2), tau_array)\n",
    "\n",
    "plt.xlabel('ms')\n",
    "plt.ylabel('event weight')\n",
    "\n",
    "plt.figsave('../figures/weightwindow.png')"
   ]
  }
 ],
 "metadata": {
  "kernelspec": {
   "display_name": "Python 3",
   "language": "python",
   "name": "python3"
  },
  "language_info": {
   "codemirror_mode": {
    "name": "ipython",
    "version": 3
   },
   "file_extension": ".py",
   "mimetype": "text/x-python",
   "name": "python",
   "nbconvert_exporter": "python",
   "pygments_lexer": "ipython3",
   "version": "3.8.8"
  }
 },
 "nbformat": 4,
 "nbformat_minor": 5
}
